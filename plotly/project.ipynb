{
 "cells": [
  {
   "cell_type": "code",
   "execution_count": 3,
   "metadata": {
    "collapsed": false
   },
   "outputs": [],
   "source": [
    "import plotly.plotly as plotly\n",
    "import plotly.figure_factory as ff\n",
    "from plotly.offline import plot\n",
    "\n",
    "import numpy as np\n",
    "import pandas as pd\n"
   ]
  },
  {
   "cell_type": "code",
   "execution_count": 13,
   "metadata": {
    "collapsed": false
   },
   "outputs": [
    {
     "name": "stderr",
     "output_type": "stream",
     "text": [
      "/Users/SONGZIZHEN/anaconda/envs/py36/lib/python3.6/site-packages/plotly/offline/offline.py:459: UserWarning:\n",
      "\n",
      "Your filename `choropleth_full_usa` didn't end with .html. Adding .html to the end of your file.\n",
      "\n"
     ]
    },
    {
     "data": {
      "text/plain": [
       "'file:///Users/SONGZIZHEN/Desktop/DataVisulizaition/Project/plotly/choropleth_full_usa.html'"
      ]
     },
     "execution_count": 13,
     "metadata": {},
     "output_type": "execute_result"
    }
   ],
   "source": [
    "df_sample = pd.read_csv('https://raw.githubusercontent.com/plotly/datasets/master/laucnty16.csv')\n",
    "df_sample['State FIPS Code'] = df_sample['State FIPS Code'].apply(lambda x: str(x).zfill(2))\n",
    "df_sample['County FIPS Code'] = df_sample['County FIPS Code'].apply(lambda x: str(x).zfill(3))\n",
    "df_sample['FIPS'] = df_sample['State FIPS Code'] + df_sample['County FIPS Code']\n",
    "\n",
    "colorscale = [\"#f7fbff\",\"#ebf3fb\",\"#deebf7\",\"#d2e3f3\",\"#c6dbef\",\"#b3d2e9\",\"#9ecae1\",\n",
    "              \"#85bcdb\",\"#6baed6\",\"#57a0ce\",\"#4292c6\",\"#3082be\",\"#2171b5\",\"#1361a9\",\n",
    "              \"#08519c\",\"#0b4083\",\"#08306b\"]\n",
    "endpts = list(np.linspace(1, 12, len(colorscale) - 1))\n",
    "fips = df_sample['FIPS'].tolist()\n",
    "values = df_sample['Unemployment Rate (%)'].tolist()\n",
    "fig = ff.create_choropleth(\n",
    "    fips=fips, values=values,\n",
    "    show_state_data=True,\n",
    "    binning_endpoints=endpts,\n",
    "    colorscale=colorscale,\n",
    "    show_hover=True, centroid_marker={'opacity': 0},\n",
    "    asp=2.9, title='USA by Unemployment %',\n",
    "    legend_title='% unemployed'\n",
    ")\n",
    "from plotly.offline import plot\n",
    "config={'showLink': False}\n",
    "plot(fig, filename='choropleth_full_usa', config = config)"
   ]
  },
  {
   "cell_type": "code",
   "execution_count": 23,
   "metadata": {
    "collapsed": false
   },
   "outputs": [
    {
     "name": "stderr",
     "output_type": "stream",
     "text": [
      "/Users/SONGZIZHEN/anaconda/envs/py36/lib/python3.6/site-packages/plotly/offline/offline.py:459: UserWarning:\n",
      "\n",
      "Your filename `choropleth_florida` didn't end with .html. Adding .html to the end of your file.\n",
      "\n"
     ]
    },
    {
     "data": {
      "text/plain": [
       "'file:///Users/SONGZIZHEN/Desktop/DataVisulizaition/Project/plotly/choropleth_florida.html'"
      ]
     },
     "execution_count": 23,
     "metadata": {},
     "output_type": "execute_result"
    }
   ],
   "source": [
    "df_sample = pd.read_csv('https://raw.githubusercontent.com/plotly/datasets/master/minoritymajority.csv')\n",
    "df_sample_r = df_sample[df_sample['STNAME'] == 'California']\n",
    "\n",
    "values = df_sample_r['TOT_POP'].tolist()\n",
    "fips = df_sample_r['FIPS'].tolist()\n",
    "\n",
    "endpts = list(np.mgrid[min(values):max(values):4j])\n",
    "colorscale = [\"#f7fbff\",\"#c6dbef\",\n",
    "              \"#6baed6\",\"#2171b5\",\n",
    "               \"#08306b\"]\n",
    "fig = ff.create_choropleth(\n",
    "    fips=fips, values=values, scope=['California'], show_state_data=True,\n",
    "    colorscale=colorscale, binning_endpoints=endpts, round_legend_values=True,\n",
    "    plot_bgcolor='rgb(255,255,255)',\n",
    "    paper_bgcolor='rgb(255,255,255)',\n",
    "    legend_title='Population by County',\n",
    "    county_outline={'color': 'rgb(255,255,255)', 'width': 0.5},\n",
    "    exponent_format=True,\n",
    ")\n",
    "config={'showLink': False}\n",
    "plot(fig, filename='choropleth_florida')"
   ]
  },
  {
   "cell_type": "markdown",
   "metadata": {},
   "source": [
    "## Data preprocessing"
   ]
  },
  {
   "cell_type": "code",
   "execution_count": 25,
   "metadata": {
    "collapsed": false
   },
   "outputs": [
    {
     "name": "stderr",
     "output_type": "stream",
     "text": [
      "/Users/SONGZIZHEN/anaconda/envs/py36/lib/python3.6/site-packages/IPython/core/interactiveshell.py:2785: DtypeWarning:\n",
      "\n",
      "Columns (21,22,23,24,25) have mixed types. Specify dtype option on import or set low_memory=False.\n",
      "\n"
     ]
    }
   ],
   "source": [
    "data = pd.read_csv('Crimes_and_Clearances_with_Arson-1985-2016.csv')\n",
    "# homicide, rape/forcible rape, aggravated assault \n",
    "# robbery, burglary, larceny-theft, motor vehicle theft, arson\n"
   ]
  },
  {
   "cell_type": "code",
   "execution_count": 39,
   "metadata": {
    "collapsed": false
   },
   "outputs": [],
   "source": [
    "data.columns = ['Year', 'County', 'NCICCode', 'Violent_sum', 'Homicide_sum',\n",
    "       'Forcible_Rapes_sum', 'Robbery_sum', 'Aggravated_Assaults_sum', 'Property_sum',\n",
    "       'Burglary_sum', 'Vehicle_Theft_sum', 'Larceny_Thefts_sum', 'Violent_Clr_sum',\n",
    "       'Homicide_Clr_sum', 'Forcible_Rapes_Clr_sum', 'Robbery_Clr_sum',\n",
    "       'Aggravated_Assaults_Clr_sum', 'Property_Clr_sum', 'Burglary_Clr_sum',\n",
    "       'Vehicle_Theft_Clr_sum', 'Larceny_Thefts_Clr_sum', 'TotalStructural_sum',\n",
    "       'TotalMobile_sum', 'TotalOther_sum', 'Arson_sum',\n",
    "       'Arson_Clr_sum', 'RAPact_sum', 'ARAPact_sum', 'FROBact_sum',\n",
    "       'KROBact_sum', 'OROBact_sum', 'SROBact_sum', 'HROBnao_sum',\n",
    "       'CHROBnao_sum', 'GROBnao_sum', 'CROBnao_sum', 'RROBnao_sum',\n",
    "       'BROBnao_sum', 'MROBnao_sum', 'FASSact_sum', 'KASSact_sum',\n",
    "       'OASSact_sum', 'HASSact_sum', 'FEBURact_Sum', 'UBURact_sum',\n",
    "       'RESDBUR_sum', 'RNBURnao_sum', 'RDBURnao_sum', 'RUBURnao_sum',\n",
    "       'NRESBUR_sum', 'NNBURnao_sum', 'NDBURnao_sum', 'NUBURnao_sum',\n",
    "       'MVTact_sum', 'TMVTact_sum', 'OMVTact_sum', 'PPLARnao_sum',\n",
    "       'PSLARnao_sum', 'SLLARnao_sum', 'MVLARnao_sum', 'MVPLARnao_sum',\n",
    "       'BILARnao_sum', 'FBLARnao_sum', 'COMLARnao_sum', 'AOLARnao_sum',\n",
    "       'LT400nao_sum', 'LT200400nao_sum', 'LT50200nao_sum', 'LT50nao_sum']"
   ]
  },
  {
   "cell_type": "code",
   "execution_count": 40,
   "metadata": {
    "collapsed": false
   },
   "outputs": [],
   "source": [
    "new_data = data[['Year', 'County', 'NCICCode', 'Violent_sum', 'Homicide_sum',\n",
    "       'Forcible_Rapes_sum', 'Robbery_sum', 'Aggravated_Assaults_sum', 'Property_sum',\n",
    "       'Burglary_sum', 'Vehicle_Theft_sum', 'Larceny_Thefts_sum', 'Violent_Clr_sum',\n",
    "       'Homicide_Clr_sum', 'Forcible_Rapes_Clr_sum', 'Robbery_Clr_sum',\n",
    "       'Aggravated_Assaults_Clr_sum', 'Property_Clr_sum', 'Burglary_Clr_sum',\n",
    "       'Vehicle_Theft_Clr_sum', 'Larceny_Thefts_Clr_sum', 'Arson_sum',\n",
    "       'Arson_Clr_sum']]"
   ]
  },
  {
   "cell_type": "code",
   "execution_count": 44,
   "metadata": {
    "collapsed": false
   },
   "outputs": [],
   "source": [
    "grouped_data = new_data.groupby(['Year', 'County']).sum().reset_index()"
   ]
  },
  {
   "cell_type": "code",
   "execution_count": 57,
   "metadata": {
    "collapsed": false
   },
   "outputs": [],
   "source": [
    "fip_county_map = pd.read_csv('https://raw.githubusercontent.com/plotly/datasets/master/laucnty16.csv')[['State FIPS Code','County FIPS Code','County Name/State Abbreviation' ]]"
   ]
  },
  {
   "cell_type": "code",
   "execution_count": 58,
   "metadata": {
    "collapsed": false
   },
   "outputs": [],
   "source": [
    "CA_fip = fip_county_map[fir_county_map['State FIPS Code'] == 6]"
   ]
  },
  {
   "cell_type": "code",
   "execution_count": 66,
   "metadata": {
    "collapsed": false
   },
   "outputs": [],
   "source": [
    "CA_fip['County Name'] = CA_fip['County Name/State Abbreviation'].str.split(',').apply(lambda x: x[0])"
   ]
  },
  {
   "cell_type": "code",
   "execution_count": 86,
   "metadata": {
    "collapsed": false
   },
   "outputs": [],
   "source": [
    "CA_fip['FIPS'] = CA_fip['State FIPS Code'].apply(lambda x: str(x).zfill(2)) + CA_fip['County FIPS Code'].apply(lambda x: str(x).zfill(3))"
   ]
  },
  {
   "cell_type": "code",
   "execution_count": 91,
   "metadata": {
    "collapsed": false
   },
   "outputs": [
    {
     "data": {
      "text/plain": [
       "('Glenn County', '06021')"
      ]
     },
     "execution_count": 91,
     "metadata": {},
     "output_type": "execute_result"
    }
   ],
   "source": [
    "CA_fip.iloc[10,3], CA_fip.iloc[10,4]"
   ]
  },
  {
   "cell_type": "code",
   "execution_count": 92,
   "metadata": {
    "collapsed": false
   },
   "outputs": [],
   "source": [
    "fip_dict = {}\n",
    "for i in range(CA_fip.shape[0]):\n",
    "    fip_dict[CA_fip.iloc[i,3]] = CA_fip.iloc[i,4]"
   ]
  },
  {
   "cell_type": "code",
   "execution_count": 113,
   "metadata": {
    "collapsed": false
   },
   "outputs": [],
   "source": [
    "fip_dict['San Francisco County'] = '06075'"
   ]
  },
  {
   "cell_type": "code",
   "execution_count": 114,
   "metadata": {
    "collapsed": false
   },
   "outputs": [],
   "source": [
    "grouped_data['Fip'] = grouped_data['County'].map(fip_dict)"
   ]
  },
  {
   "cell_type": "code",
   "execution_count": 145,
   "metadata": {
    "collapsed": false
   },
   "outputs": [],
   "source": [
    "col_list= list(grouped_data)\n",
    "col_list.remove('Year')\n",
    "col_list.remove('County')\n",
    "col_list.remove('Fip')"
   ]
  },
  {
   "cell_type": "code",
   "execution_count": 148,
   "metadata": {
    "collapsed": false
   },
   "outputs": [],
   "source": [
    "grouped_data['Crime_sum'] = grouped_data[col_list].sum(axis=1)"
   ]
  },
  {
   "cell_type": "code",
   "execution_count": 149,
   "metadata": {
    "collapsed": false
   },
   "outputs": [
    {
     "data": {
      "text/html": [
       "<div>\n",
       "<style scoped>\n",
       "    .dataframe tbody tr th:only-of-type {\n",
       "        vertical-align: middle;\n",
       "    }\n",
       "\n",
       "    .dataframe tbody tr th {\n",
       "        vertical-align: top;\n",
       "    }\n",
       "\n",
       "    .dataframe thead th {\n",
       "        text-align: right;\n",
       "    }\n",
       "</style>\n",
       "<table border=\"1\" class=\"dataframe\">\n",
       "  <thead>\n",
       "    <tr style=\"text-align: right;\">\n",
       "      <th></th>\n",
       "      <th>Year</th>\n",
       "      <th>County</th>\n",
       "      <th>Violent_sum</th>\n",
       "      <th>Homicide_sum</th>\n",
       "      <th>Forcible_Rapes_sum</th>\n",
       "      <th>Robbery_sum</th>\n",
       "      <th>Aggravated_Assaults_sum</th>\n",
       "      <th>Property_sum</th>\n",
       "      <th>Burglary_sum</th>\n",
       "      <th>Vehicle_Theft_sum</th>\n",
       "      <th>...</th>\n",
       "      <th>Homicide_Clr_sum</th>\n",
       "      <th>Forcible_Rapes_Clr_sum</th>\n",
       "      <th>Robbery_Clr_sum</th>\n",
       "      <th>Aggravated_Assaults_Clr_sum</th>\n",
       "      <th>Property_Clr_sum</th>\n",
       "      <th>Burglary_Clr_sum</th>\n",
       "      <th>Vehicle_Theft_Clr_sum</th>\n",
       "      <th>Larceny_Thefts_Clr_sum</th>\n",
       "      <th>Fip</th>\n",
       "      <th>Crime_sum</th>\n",
       "    </tr>\n",
       "  </thead>\n",
       "  <tbody>\n",
       "    <tr>\n",
       "      <th>0</th>\n",
       "      <td>1985</td>\n",
       "      <td>Alameda County</td>\n",
       "      <td>11628</td>\n",
       "      <td>143</td>\n",
       "      <td>791</td>\n",
       "      <td>5427</td>\n",
       "      <td>5267</td>\n",
       "      <td>89297</td>\n",
       "      <td>24997</td>\n",
       "      <td>7142</td>\n",
       "      <td>...</td>\n",
       "      <td>91</td>\n",
       "      <td>445</td>\n",
       "      <td>1517</td>\n",
       "      <td>3376</td>\n",
       "      <td>15409</td>\n",
       "      <td>3117</td>\n",
       "      <td>1607</td>\n",
       "      <td>10685</td>\n",
       "      <td>06001</td>\n",
       "      <td>243526</td>\n",
       "    </tr>\n",
       "    <tr>\n",
       "      <th>1</th>\n",
       "      <td>1985</td>\n",
       "      <td>Alpine County</td>\n",
       "      <td>8</td>\n",
       "      <td>0</td>\n",
       "      <td>0</td>\n",
       "      <td>0</td>\n",
       "      <td>8</td>\n",
       "      <td>288</td>\n",
       "      <td>27</td>\n",
       "      <td>6</td>\n",
       "      <td>...</td>\n",
       "      <td>0</td>\n",
       "      <td>0</td>\n",
       "      <td>0</td>\n",
       "      <td>4</td>\n",
       "      <td>6</td>\n",
       "      <td>3</td>\n",
       "      <td>2</td>\n",
       "      <td>1</td>\n",
       "      <td>06003</td>\n",
       "      <td>612</td>\n",
       "    </tr>\n",
       "    <tr>\n",
       "      <th>2</th>\n",
       "      <td>1985</td>\n",
       "      <td>Amador County</td>\n",
       "      <td>79</td>\n",
       "      <td>3</td>\n",
       "      <td>1</td>\n",
       "      <td>4</td>\n",
       "      <td>71</td>\n",
       "      <td>575</td>\n",
       "      <td>201</td>\n",
       "      <td>28</td>\n",
       "      <td>...</td>\n",
       "      <td>3</td>\n",
       "      <td>0</td>\n",
       "      <td>3</td>\n",
       "      <td>62</td>\n",
       "      <td>116</td>\n",
       "      <td>29</td>\n",
       "      <td>20</td>\n",
       "      <td>67</td>\n",
       "      <td>06005</td>\n",
       "      <td>1676</td>\n",
       "    </tr>\n",
       "    <tr>\n",
       "      <th>3</th>\n",
       "      <td>1985</td>\n",
       "      <td>Butte County</td>\n",
       "      <td>614</td>\n",
       "      <td>3</td>\n",
       "      <td>68</td>\n",
       "      <td>111</td>\n",
       "      <td>432</td>\n",
       "      <td>8482</td>\n",
       "      <td>2653</td>\n",
       "      <td>438</td>\n",
       "      <td>...</td>\n",
       "      <td>2</td>\n",
       "      <td>27</td>\n",
       "      <td>24</td>\n",
       "      <td>193</td>\n",
       "      <td>990</td>\n",
       "      <td>175</td>\n",
       "      <td>93</td>\n",
       "      <td>722</td>\n",
       "      <td>06007</td>\n",
       "      <td>20664</td>\n",
       "    </tr>\n",
       "    <tr>\n",
       "      <th>4</th>\n",
       "      <td>1985</td>\n",
       "      <td>Calaveras County</td>\n",
       "      <td>214</td>\n",
       "      <td>19</td>\n",
       "      <td>8</td>\n",
       "      <td>3</td>\n",
       "      <td>184</td>\n",
       "      <td>922</td>\n",
       "      <td>486</td>\n",
       "      <td>42</td>\n",
       "      <td>...</td>\n",
       "      <td>11</td>\n",
       "      <td>4</td>\n",
       "      <td>2</td>\n",
       "      <td>76</td>\n",
       "      <td>125</td>\n",
       "      <td>51</td>\n",
       "      <td>9</td>\n",
       "      <td>65</td>\n",
       "      <td>06009</td>\n",
       "      <td>2708</td>\n",
       "    </tr>\n",
       "  </tbody>\n",
       "</table>\n",
       "<p>5 rows × 22 columns</p>\n",
       "</div>"
      ],
      "text/plain": [
       "   Year            County  Violent_sum  Homicide_sum  Forcible_Rapes_sum  \\\n",
       "0  1985    Alameda County        11628           143                 791   \n",
       "1  1985     Alpine County            8             0                   0   \n",
       "2  1985     Amador County           79             3                   1   \n",
       "3  1985      Butte County          614             3                  68   \n",
       "4  1985  Calaveras County          214            19                   8   \n",
       "\n",
       "   Robbery_sum  Aggravated_Assaults_sum  Property_sum  Burglary_sum  \\\n",
       "0         5427                     5267         89297         24997   \n",
       "1            0                        8           288            27   \n",
       "2            4                       71           575           201   \n",
       "3          111                      432          8482          2653   \n",
       "4            3                      184           922           486   \n",
       "\n",
       "   Vehicle_Theft_sum    ...      Homicide_Clr_sum  Forcible_Rapes_Clr_sum  \\\n",
       "0               7142    ...                    91                     445   \n",
       "1                  6    ...                     0                       0   \n",
       "2                 28    ...                     3                       0   \n",
       "3                438    ...                     2                      27   \n",
       "4                 42    ...                    11                       4   \n",
       "\n",
       "   Robbery_Clr_sum  Aggravated_Assaults_Clr_sum  Property_Clr_sum  \\\n",
       "0             1517                         3376             15409   \n",
       "1                0                            4                 6   \n",
       "2                3                           62               116   \n",
       "3               24                          193               990   \n",
       "4                2                           76               125   \n",
       "\n",
       "   Burglary_Clr_sum  Vehicle_Theft_Clr_sum  Larceny_Thefts_Clr_sum    Fip  \\\n",
       "0              3117                   1607                   10685  06001   \n",
       "1                 3                      2                       1  06003   \n",
       "2                29                     20                      67  06005   \n",
       "3               175                     93                     722  06007   \n",
       "4                51                      9                      65  06009   \n",
       "\n",
       "   Crime_sum  \n",
       "0     243526  \n",
       "1        612  \n",
       "2       1676  \n",
       "3      20664  \n",
       "4       2708  \n",
       "\n",
       "[5 rows x 22 columns]"
      ]
     },
     "execution_count": 149,
     "metadata": {},
     "output_type": "execute_result"
    }
   ],
   "source": [
    "grouped_data.head()"
   ]
  },
  {
   "cell_type": "markdown",
   "metadata": {},
   "source": [
    "## static: year==1985"
   ]
  },
  {
   "cell_type": "code",
   "execution_count": 194,
   "metadata": {
    "collapsed": false
   },
   "outputs": [
    {
     "name": "stderr",
     "output_type": "stream",
     "text": [
      "/Users/SONGZIZHEN/anaconda/envs/py36/lib/python3.6/site-packages/plotly/offline/offline.py:459: UserWarning:\n",
      "\n",
      "Your filename `choropleth_california` didn't end with .html. Adding .html to the end of your file.\n",
      "\n"
     ]
    },
    {
     "data": {
      "text/plain": [
       "'file:///Users/SONGZIZHEN/Desktop/DataVisulizaition/Project/plotly/choropleth_california.html'"
      ]
     },
     "execution_count": 194,
     "metadata": {},
     "output_type": "execute_result"
    }
   ],
   "source": [
    "df_sample = grouped_data\n",
    "df_sample_r = df_sample[df_sample['Year'] == 1985]\n",
    "\n",
    "values = df_sample_r['Crime_sum'].tolist()\n",
    "fips = df_sample_r['Fip'].tolist()\n",
    "\n",
    "magnitude = range(int(np.floor(np.log10(min(values)))),int(np.ceil(np.log10(max(values))))+1)\n",
    "endpts = list(np.power(10, magnitude))\n",
    "# endpts = list(np.mgrid[min(values):max(values):9j])\n",
    "# [\"#6b8c85\", \"#75968f\", \"#a5bab7\", \"#c9d9d3\", \"#e2e2e2\", \"#dfccce\", \"#ddb7b1\", \"#cc7878\", \"#933b41\", \"#550b1d\"]\n",
    "colorscale = [ \"#c9d9d3\", \"#e2e2e2\", \"#dfccce\", \"#ddb7b1\", \"#cc7878\", \"#933b41\", \"#550b1d\"]\n",
    "fig = ff.create_choropleth(\n",
    "    fips=fips, values=values, scope=['California'], show_state_data=True,\n",
    "    colorscale=colorscale, binning_endpoints=endpts, round_legend_values=True,\n",
    "    plot_bgcolor='rgb(255,255,255)',\n",
    "    paper_bgcolor='rgb(255,255,255)',\n",
    "    legend_title='Crimes by County',\n",
    "    county_outline={'color': 'rgb(255,255,255)', 'width': 1},\n",
    "    exponent_format=True,\n",
    ")\n",
    "config={'showLink': True}\n",
    "plot(fig, filename='choropleth_california', config = config)"
   ]
  },
  {
   "cell_type": "markdown",
   "metadata": {},
   "source": [
    "## dynamic"
   ]
  },
  {
   "cell_type": "code",
   "execution_count": 193,
   "metadata": {
    "collapsed": true
   },
   "outputs": [],
   "source": [
    "df = grouped_data\n",
    "years = df.Year.unique()"
   ]
  },
  {
   "cell_type": "code",
   "execution_count": 185,
   "metadata": {
    "collapsed": false
   },
   "outputs": [
    {
     "name": "stderr",
     "output_type": "stream",
     "text": [
      "/Users/SONGZIZHEN/anaconda/envs/py36/lib/python3.6/site-packages/plotly/offline/offline.py:459: UserWarning:\n",
      "\n",
      "Your filename `choropleth_california` didn't end with .html. Adding .html to the end of your file.\n",
      "\n"
     ]
    },
    {
     "data": {
      "text/plain": [
       "'file:///Users/SONGZIZHEN/Desktop/DataVisulizaition/Project/plotly/choropleth_california.html'"
      ]
     },
     "execution_count": 185,
     "metadata": {},
     "output_type": "execute_result"
    }
   ],
   "source": [
    "df = grouped_data\n",
    "years = df.Year.unique()\n",
    "\n",
    "\n",
    "values = df_sample_r['Property_Clr_sum'].tolist()\n",
    "fips = df_sample_r['Fip'].tolist()\n",
    "\n",
    "magnitude = range(int(np.floor(np.log10(min(values)))),int(np.ceil(np.log10(max(values))))+1)\n",
    "endpts = list(np.power(10, [0,1,2,3,4,5,6,7]))\n",
    "# endpts = list(np.mgrid[min(values):max(values):9j])\n",
    "# [\"#6b8c85\", \"#75968f\", \"#a5bab7\", \"#c9d9d3\", \"#e2e2e2\", \"#dfccce\", \"#ddb7b1\", \"#cc7878\", \"#933b41\", \"#550b1d\"]\n",
    "colorscale = [\"#75968f\", \"#a5bab7\", \"#c9d9d3\", \"#e2e2e2\", \"#dfccce\", \"#ddb7b1\", \"#cc7878\", \"#933b41\", \"#550b1d\"]\n",
    "\n",
    "fig = ff.create_choropleth(\n",
    "    fips=fips, values=values, scope=['California'], show_state_data=True,\n",
    "    colorscale=colorscale, binning_endpoints=endpts, round_legend_values=True,\n",
    "    plot_bgcolor='rgb(255,255,255)',\n",
    "    paper_bgcolor='rgb(255,255,255)',\n",
    "    legend_title='Crimes by County',\n",
    "    county_outline={'color': 'rgb(255,255,255)', 'width': 1},\n",
    "    exponent_format=True,\n",
    ")\n",
    "config={'showLink': True}\n",
    "plot(fig, filename='choropleth_california', config = config)"
   ]
  },
  {
   "cell_type": "code",
   "execution_count": 169,
   "metadata": {
    "collapsed": false
   },
   "outputs": [
    {
     "data": {
      "text/plain": [
       "[100, 1000, 10000, 100000, 1000000, 10000000]"
      ]
     },
     "execution_count": 169,
     "metadata": {},
     "output_type": "execute_result"
    }
   ],
   "source": [
    "list(np.power(10, magnitude))"
   ]
  },
  {
   "cell_type": "code",
   "execution_count": null,
   "metadata": {
    "collapsed": true
   },
   "outputs": [],
   "source": []
  }
 ],
 "metadata": {
  "kernelspec": {
   "display_name": "py36",
   "language": "python",
   "name": "py36"
  },
  "language_info": {
   "codemirror_mode": {
    "name": "ipython",
    "version": 3
   },
   "file_extension": ".py",
   "mimetype": "text/x-python",
   "name": "python",
   "nbconvert_exporter": "python",
   "pygments_lexer": "ipython3",
   "version": "3.6.4"
  }
 },
 "nbformat": 4,
 "nbformat_minor": 2
}
