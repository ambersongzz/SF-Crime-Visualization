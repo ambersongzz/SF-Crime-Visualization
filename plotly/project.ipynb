{
 "cells": [
  {
   "cell_type": "code",
   "execution_count": 241,
   "metadata": {},
   "outputs": [
    {
     "data": {
      "text/html": [
       "<script>requirejs.config({paths: { 'plotly': ['https://cdn.plot.ly/plotly-latest.min']},});if(!window.Plotly) {{require(['plotly'],function(plotly) {window.Plotly=plotly;});}}</script>"
      ],
      "text/vnd.plotly.v1+html": [
       "<script>requirejs.config({paths: { 'plotly': ['https://cdn.plot.ly/plotly-latest.min']},});if(!window.Plotly) {{require(['plotly'],function(plotly) {window.Plotly=plotly;});}}</script>"
      ]
     },
     "metadata": {},
     "output_type": "display_data"
    }
   ],
   "source": [
    "from plotly.offline import download_plotlyjs, init_notebook_mode, plot, iplot\n",
    "init_notebook_mode(connected=True)\n",
    "import plotly.graph_objs as go\n",
    "import plotly.tools as tls\n",
    "from plotly.graph_objs import *\n",
    "import pandas as pd\n",
    "import numpy as np"
   ]
  },
  {
   "cell_type": "code",
   "execution_count": 242,
   "metadata": {},
   "outputs": [],
   "source": [
    "df = pd.read_csv (\"zizhendahaoren.csv\",\n",
    "                  index_col = 0)"
   ]
  },
  {
   "cell_type": "code",
   "execution_count": 243,
   "metadata": {},
   "outputs": [
    {
     "data": {
      "text/html": [
       "<div>\n",
       "<style scoped>\n",
       "    .dataframe tbody tr th:only-of-type {\n",
       "        vertical-align: middle;\n",
       "    }\n",
       "\n",
       "    .dataframe tbody tr th {\n",
       "        vertical-align: top;\n",
       "    }\n",
       "\n",
       "    .dataframe thead th {\n",
       "        text-align: right;\n",
       "    }\n",
       "</style>\n",
       "<table border=\"1\" class=\"dataframe\">\n",
       "  <thead>\n",
       "    <tr style=\"text-align: right;\">\n",
       "      <th></th>\n",
       "      <th>State</th>\n",
       "      <th>specify</th>\n",
       "      <th>Violent_crime</th>\n",
       "      <th>Murder_and_nonnegligent_manslaughter</th>\n",
       "      <th>Rape</th>\n",
       "      <th>Robbery</th>\n",
       "      <th>Aggravated_assault</th>\n",
       "      <th>Property_crime</th>\n",
       "      <th>Burglary</th>\n",
       "      <th>Larceny-theft</th>\n",
       "      <th>Motor_vehicle_theft</th>\n",
       "      <th>year</th>\n",
       "    </tr>\n",
       "  </thead>\n",
       "  <tbody>\n",
       "    <tr>\n",
       "      <th>10</th>\n",
       "      <td>ALABAMA</td>\n",
       "      <td>Rate per 100,000 inhabitants</td>\n",
       "      <td>532.3</td>\n",
       "      <td>8.4</td>\n",
       "      <td>39.4</td>\n",
       "      <td>96.4</td>\n",
       "      <td>388.2</td>\n",
       "      <td>2947.8</td>\n",
       "      <td>700.5</td>\n",
       "      <td>2006.3</td>\n",
       "      <td>241.1</td>\n",
       "      <td>2016</td>\n",
       "    </tr>\n",
       "    <tr>\n",
       "      <th>19</th>\n",
       "      <td>ALASKA</td>\n",
       "      <td>Rate per 100,000 inhabitants</td>\n",
       "      <td>804.2</td>\n",
       "      <td>7.0</td>\n",
       "      <td>141.9</td>\n",
       "      <td>114.6</td>\n",
       "      <td>540.6</td>\n",
       "      <td>3353.0</td>\n",
       "      <td>546.3</td>\n",
       "      <td>2394.7</td>\n",
       "      <td>412.1</td>\n",
       "      <td>2016</td>\n",
       "    </tr>\n",
       "    <tr>\n",
       "      <th>28</th>\n",
       "      <td>ARIZONA</td>\n",
       "      <td>Rate per 100,000 inhabitants</td>\n",
       "      <td>470.1</td>\n",
       "      <td>5.5</td>\n",
       "      <td>47.5</td>\n",
       "      <td>101.8</td>\n",
       "      <td>315.4</td>\n",
       "      <td>2978.4</td>\n",
       "      <td>544.4</td>\n",
       "      <td>2168.1</td>\n",
       "      <td>265.8</td>\n",
       "      <td>2016</td>\n",
       "    </tr>\n",
       "    <tr>\n",
       "      <th>39</th>\n",
       "      <td>ARKANSAS</td>\n",
       "      <td>Rate per 100,000 inhabitants</td>\n",
       "      <td>550.9</td>\n",
       "      <td>7.2</td>\n",
       "      <td>71.7</td>\n",
       "      <td>70.9</td>\n",
       "      <td>401.0</td>\n",
       "      <td>3268.6</td>\n",
       "      <td>795.5</td>\n",
       "      <td>2233.6</td>\n",
       "      <td>239.4</td>\n",
       "      <td>2016</td>\n",
       "    </tr>\n",
       "    <tr>\n",
       "      <th>48</th>\n",
       "      <td>CALIFORNIA</td>\n",
       "      <td>Rate per 100,000 inhabitants</td>\n",
       "      <td>445.3</td>\n",
       "      <td>4.9</td>\n",
       "      <td>34.9</td>\n",
       "      <td>139.6</td>\n",
       "      <td>265.9</td>\n",
       "      <td>2553.0</td>\n",
       "      <td>479.8</td>\n",
       "      <td>1623.0</td>\n",
       "      <td>450.3</td>\n",
       "      <td>2016</td>\n",
       "    </tr>\n",
       "  </tbody>\n",
       "</table>\n",
       "</div>"
      ],
      "text/plain": [
       "         State                       specify  Violent_crime  \\\n",
       "10     ALABAMA  Rate per 100,000 inhabitants          532.3   \n",
       "19      ALASKA  Rate per 100,000 inhabitants          804.2   \n",
       "28     ARIZONA  Rate per 100,000 inhabitants          470.1   \n",
       "39    ARKANSAS  Rate per 100,000 inhabitants          550.9   \n",
       "48  CALIFORNIA  Rate per 100,000 inhabitants          445.3   \n",
       "\n",
       "    Murder_and_nonnegligent_manslaughter   Rape  Robbery  Aggravated_assault  \\\n",
       "10                                   8.4   39.4     96.4               388.2   \n",
       "19                                   7.0  141.9    114.6               540.6   \n",
       "28                                   5.5   47.5    101.8               315.4   \n",
       "39                                   7.2   71.7     70.9               401.0   \n",
       "48                                   4.9   34.9    139.6               265.9   \n",
       "\n",
       "    Property_crime  Burglary  Larceny-theft  Motor_vehicle_theft  year  \n",
       "10          2947.8     700.5         2006.3                241.1  2016  \n",
       "19          3353.0     546.3         2394.7                412.1  2016  \n",
       "28          2978.4     544.4         2168.1                265.8  2016  \n",
       "39          3268.6     795.5         2233.6                239.4  2016  \n",
       "48          2553.0     479.8         1623.0                450.3  2016  "
      ]
     },
     "execution_count": 243,
     "metadata": {},
     "output_type": "execute_result"
    }
   ],
   "source": [
    "df.head()\n"
   ]
  },
  {
   "cell_type": "code",
   "execution_count": 244,
   "metadata": {},
   "outputs": [],
   "source": [
    "crime_cols = ['Violent_crime', 'Murder_and_nonnegligent_manslaughter', 'Rape', 'Robbery', \n",
    "              'Aggravated_assault', 'Property_crime', 'Burglary', 'Larceny-theft', 'Motor_vehicle_theft']\n",
    "for col in crime_cols:\n",
    "    if df[col].dtype != 'float64':\n",
    "        df[col] = df[col].astype('float')"
   ]
  },
  {
   "cell_type": "code",
   "execution_count": 245,
   "metadata": {},
   "outputs": [],
   "source": [
    "df['all_crime'] = df['Violent_crime'] + df['Murder_and_nonnegligent_manslaughter'] + df['Rape'] + df['Robbery'] +\\\n",
    "    df['Aggravated_assault'] + df['Property_crime'] + df['Burglary'] + df['Larceny-theft'] + df['Motor_vehicle_theft']"
   ]
  },
  {
   "cell_type": "code",
   "execution_count": 246,
   "metadata": {},
   "outputs": [],
   "source": [
    "code_map = pd.read_csv('https://raw.githubusercontent.com/plotly/datasets/master/2011_us_ag_exports.csv')[['code', 'state']]\n"
   ]
  },
  {
   "cell_type": "code",
   "execution_count": 247,
   "metadata": {},
   "outputs": [],
   "source": [
    "state_map = {}\n",
    "for i in range(code_map.shape[0]):\n",
    "    code = code_map.iloc[i, 0]\n",
    "    state = code_map.iloc[i, 1].upper()\n",
    "    state_map[state] = code  "
   ]
  },
  {
   "cell_type": "code",
   "execution_count": 248,
   "metadata": {},
   "outputs": [],
   "source": [
    "state_map['CALIFORNIA'] = 'CA'\n",
    "state_map['DISTRICT OF COLUMBIA'] = 'DC'\n",
    "state_map['PUERTO RICO'] = 'PR'"
   ]
  },
  {
   "cell_type": "code",
   "execution_count": 249,
   "metadata": {},
   "outputs": [],
   "source": [
    "df['Code'] = df.State.map(state_map)"
   ]
  },
  {
   "cell_type": "code",
   "execution_count": 250,
   "metadata": {},
   "outputs": [],
   "source": [
    "df = df[(df['State'] != 'DISTRICT OF COLUMBIA') & (df['State'] != 'PUERTO RICO')]"
   ]
  },
  {
   "cell_type": "code",
   "execution_count": 251,
   "metadata": {},
   "outputs": [],
   "source": [
    "df['text'] = \"per 100,000 inhabitants\" + '<br>' +  df['State']"
   ]
  },
  {
   "cell_type": "code",
   "execution_count": 252,
   "metadata": {},
   "outputs": [
    {
     "data": {
      "text/html": [
       "<div>\n",
       "<style scoped>\n",
       "    .dataframe tbody tr th:only-of-type {\n",
       "        vertical-align: middle;\n",
       "    }\n",
       "\n",
       "    .dataframe tbody tr th {\n",
       "        vertical-align: top;\n",
       "    }\n",
       "\n",
       "    .dataframe thead th {\n",
       "        text-align: right;\n",
       "    }\n",
       "</style>\n",
       "<table border=\"1\" class=\"dataframe\">\n",
       "  <thead>\n",
       "    <tr style=\"text-align: right;\">\n",
       "      <th></th>\n",
       "      <th>State</th>\n",
       "      <th>specify</th>\n",
       "      <th>Violent_crime</th>\n",
       "      <th>Murder_and_nonnegligent_manslaughter</th>\n",
       "      <th>Rape</th>\n",
       "      <th>Robbery</th>\n",
       "      <th>Aggravated_assault</th>\n",
       "      <th>Property_crime</th>\n",
       "      <th>Burglary</th>\n",
       "      <th>Larceny-theft</th>\n",
       "      <th>Motor_vehicle_theft</th>\n",
       "      <th>year</th>\n",
       "      <th>all_crime</th>\n",
       "      <th>Code</th>\n",
       "      <th>text</th>\n",
       "    </tr>\n",
       "  </thead>\n",
       "  <tbody>\n",
       "  </tbody>\n",
       "</table>\n",
       "</div>"
      ],
      "text/plain": [
       "Empty DataFrame\n",
       "Columns: [State, specify, Violent_crime, Murder_and_nonnegligent_manslaughter, Rape, Robbery, Aggravated_assault, Property_crime, Burglary, Larceny-theft, Motor_vehicle_theft, year, all_crime, Code, text]\n",
       "Index: []"
      ]
     },
     "execution_count": 252,
     "metadata": {},
     "output_type": "execute_result"
    }
   ],
   "source": [
    "df[df['Code'].isna()]"
   ]
  },
  {
   "cell_type": "code",
   "execution_count": 253,
   "metadata": {},
   "outputs": [
    {
     "data": {
      "text/plain": [
       "'AL'"
      ]
     },
     "execution_count": 253,
     "metadata": {},
     "output_type": "execute_result"
    }
   ],
   "source": [
    "state_map['ALABAMA']"
   ]
  },
  {
   "cell_type": "code",
   "execution_count": 254,
   "metadata": {},
   "outputs": [
    {
     "data": {
      "text/html": [
       "<div>\n",
       "<style scoped>\n",
       "    .dataframe tbody tr th:only-of-type {\n",
       "        vertical-align: middle;\n",
       "    }\n",
       "\n",
       "    .dataframe tbody tr th {\n",
       "        vertical-align: top;\n",
       "    }\n",
       "\n",
       "    .dataframe thead th {\n",
       "        text-align: right;\n",
       "    }\n",
       "</style>\n",
       "<table border=\"1\" class=\"dataframe\">\n",
       "  <thead>\n",
       "    <tr style=\"text-align: right;\">\n",
       "      <th></th>\n",
       "      <th>State</th>\n",
       "      <th>specify</th>\n",
       "      <th>Violent_crime</th>\n",
       "      <th>Murder_and_nonnegligent_manslaughter</th>\n",
       "      <th>Rape</th>\n",
       "      <th>Robbery</th>\n",
       "      <th>Aggravated_assault</th>\n",
       "      <th>Property_crime</th>\n",
       "      <th>Burglary</th>\n",
       "      <th>Larceny-theft</th>\n",
       "      <th>Motor_vehicle_theft</th>\n",
       "      <th>year</th>\n",
       "      <th>all_crime</th>\n",
       "      <th>Code</th>\n",
       "      <th>text</th>\n",
       "    </tr>\n",
       "  </thead>\n",
       "  <tbody>\n",
       "    <tr>\n",
       "      <th>460</th>\n",
       "      <td>VIRGINIA</td>\n",
       "      <td>Rate per 100,000 inhabitants</td>\n",
       "      <td>195.6</td>\n",
       "      <td>4.6</td>\n",
       "      <td>27.9</td>\n",
       "      <td>53.0</td>\n",
       "      <td>110.2</td>\n",
       "      <td>1866.5</td>\n",
       "      <td>254.6</td>\n",
       "      <td>1515.2</td>\n",
       "      <td>96.8</td>\n",
       "      <td>2015</td>\n",
       "      <td>4124.4</td>\n",
       "      <td>VA</td>\n",
       "      <td>per 100,000 inhabitants&lt;br&gt;VIRGINIA</td>\n",
       "    </tr>\n",
       "    <tr>\n",
       "      <th>470</th>\n",
       "      <td>WASHINGTON</td>\n",
       "      <td>Rate per 100,000 inhabitants</td>\n",
       "      <td>284.4</td>\n",
       "      <td>2.9</td>\n",
       "      <td>37.7</td>\n",
       "      <td>76.0</td>\n",
       "      <td>167.8</td>\n",
       "      <td>3463.8</td>\n",
       "      <td>711.2</td>\n",
       "      <td>2378.0</td>\n",
       "      <td>374.7</td>\n",
       "      <td>2015</td>\n",
       "      <td>7496.5</td>\n",
       "      <td>WA</td>\n",
       "      <td>per 100,000 inhabitants&lt;br&gt;WASHINGTON</td>\n",
       "    </tr>\n",
       "    <tr>\n",
       "      <th>481</th>\n",
       "      <td>WEST VIRGINIA</td>\n",
       "      <td>Rate per 100,000 inhabitants</td>\n",
       "      <td>337.9</td>\n",
       "      <td>3.8</td>\n",
       "      <td>36.4</td>\n",
       "      <td>41.2</td>\n",
       "      <td>256.4</td>\n",
       "      <td>2020.0</td>\n",
       "      <td>497.3</td>\n",
       "      <td>1401.3</td>\n",
       "      <td>121.4</td>\n",
       "      <td>2015</td>\n",
       "      <td>4715.7</td>\n",
       "      <td>WV</td>\n",
       "      <td>per 100,000 inhabitants&lt;br&gt;WEST VIRGINIA</td>\n",
       "    </tr>\n",
       "    <tr>\n",
       "      <th>491</th>\n",
       "      <td>WISCONSIN</td>\n",
       "      <td>Rate per 100,000 inhabitants</td>\n",
       "      <td>305.8</td>\n",
       "      <td>4.2</td>\n",
       "      <td>30.8</td>\n",
       "      <td>90.7</td>\n",
       "      <td>180.1</td>\n",
       "      <td>1974.0</td>\n",
       "      <td>338.8</td>\n",
       "      <td>1444.8</td>\n",
       "      <td>190.3</td>\n",
       "      <td>2015</td>\n",
       "      <td>4559.5</td>\n",
       "      <td>WI</td>\n",
       "      <td>per 100,000 inhabitants&lt;br&gt;WISCONSIN</td>\n",
       "    </tr>\n",
       "    <tr>\n",
       "      <th>501</th>\n",
       "      <td>WYOMING</td>\n",
       "      <td>Rate per 100,000 inhabitants</td>\n",
       "      <td>222.1</td>\n",
       "      <td>2.7</td>\n",
       "      <td>29.5</td>\n",
       "      <td>10.1</td>\n",
       "      <td>179.8</td>\n",
       "      <td>1902.6</td>\n",
       "      <td>300.6</td>\n",
       "      <td>1500.9</td>\n",
       "      <td>101.0</td>\n",
       "      <td>2015</td>\n",
       "      <td>4249.3</td>\n",
       "      <td>WY</td>\n",
       "      <td>per 100,000 inhabitants&lt;br&gt;WYOMING</td>\n",
       "    </tr>\n",
       "  </tbody>\n",
       "</table>\n",
       "</div>"
      ],
      "text/plain": [
       "             State                       specify  Violent_crime  \\\n",
       "460       VIRGINIA  Rate per 100,000 inhabitants          195.6   \n",
       "470     WASHINGTON  Rate per 100,000 inhabitants          284.4   \n",
       "481  WEST VIRGINIA  Rate per 100,000 inhabitants          337.9   \n",
       "491      WISCONSIN  Rate per 100,000 inhabitants          305.8   \n",
       "501        WYOMING  Rate per 100,000 inhabitants          222.1   \n",
       "\n",
       "     Murder_and_nonnegligent_manslaughter  Rape  Robbery  Aggravated_assault  \\\n",
       "460                                   4.6  27.9     53.0               110.2   \n",
       "470                                   2.9  37.7     76.0               167.8   \n",
       "481                                   3.8  36.4     41.2               256.4   \n",
       "491                                   4.2  30.8     90.7               180.1   \n",
       "501                                   2.7  29.5     10.1               179.8   \n",
       "\n",
       "     Property_crime  Burglary  Larceny-theft  Motor_vehicle_theft  year  \\\n",
       "460          1866.5     254.6         1515.2                 96.8  2015   \n",
       "470          3463.8     711.2         2378.0                374.7  2015   \n",
       "481          2020.0     497.3         1401.3                121.4  2015   \n",
       "491          1974.0     338.8         1444.8                190.3  2015   \n",
       "501          1902.6     300.6         1500.9                101.0  2015   \n",
       "\n",
       "     all_crime Code                                      text  \n",
       "460     4124.4   VA       per 100,000 inhabitants<br>VIRGINIA  \n",
       "470     7496.5   WA     per 100,000 inhabitants<br>WASHINGTON  \n",
       "481     4715.7   WV  per 100,000 inhabitants<br>WEST VIRGINIA  \n",
       "491     4559.5   WI      per 100,000 inhabitants<br>WISCONSIN  \n",
       "501     4249.3   WY        per 100,000 inhabitants<br>WYOMING  "
      ]
     },
     "execution_count": 254,
     "metadata": {},
     "output_type": "execute_result"
    }
   ],
   "source": [
    "df.tail()"
   ]
  },
  {
   "cell_type": "markdown",
   "metadata": {},
   "source": [
    "# Single year, single crime"
   ]
  },
  {
   "cell_type": "code",
   "execution_count": 240,
   "metadata": {},
   "outputs": [
    {
     "data": {
      "application/vnd.plotly.v1+json": {
       "data": [
        {
         "autocolorscale": false,
         "colorbar": {
          "autotick": false,
          "tickprefix": "",
          "title": "Crime Rate"
         },
         "colorscale": [
          [
           0,
           "#550b1d"
          ],
          [
           0.2,
           "#933b41"
          ],
          [
           0.4,
           "#cc7878"
          ],
          [
           0.6,
           "#ddb7b1"
          ],
          [
           0.8,
           "#dfccce"
          ],
          [
           1,
           "#e2e2e2"
          ]
         ],
         "locationmode": "USA-states",
         "locations": [
          "AL",
          "AK",
          "AZ",
          "AR",
          "CA",
          "CO",
          "CT",
          "DE",
          "FL",
          "GA",
          "HI",
          "ID",
          "IL",
          "IN",
          "IA",
          "KS",
          "KY",
          "LA",
          "ME",
          "MD",
          "MA",
          "MI",
          "MN",
          "MS",
          "MO",
          "MT",
          "NE",
          "NV",
          "NH",
          "NJ",
          "NM",
          "NY",
          "NC",
          "ND",
          "OH",
          "OK",
          "OR",
          "PA",
          "RI",
          "SC",
          "SD",
          "TN",
          "TX",
          "UT",
          "VT",
          "VA",
          "WA",
          "WV",
          "WI",
          "WY"
         ],
         "marker": {
          "cmax": 9279.199999999999,
          "cmin": 3421.1000000000004,
          "line": {
           "color": "rgb(255,255,255)",
           "width": 2
          }
         },
         "reversescale": true,
         "text": [
          "per 100,000 inhabitants<br>ALABAMA",
          "per 100,000 inhabitants<br>ALASKA",
          "per 100,000 inhabitants<br>ARIZONA",
          "per 100,000 inhabitants<br>ARKANSAS",
          "per 100,000 inhabitants<br>CALIFORNIA",
          "per 100,000 inhabitants<br>COLORADO",
          "per 100,000 inhabitants<br>CONNECTICUT",
          "per 100,000 inhabitants<br>DELAWARE",
          "per 100,000 inhabitants<br>FLORIDA",
          "per 100,000 inhabitants<br>GEORGIA",
          "per 100,000 inhabitants<br>HAWAII",
          "per 100,000 inhabitants<br>IDAHO",
          "per 100,000 inhabitants<br>ILLINOIS",
          "per 100,000 inhabitants<br>INDIANA",
          "per 100,000 inhabitants<br>IOWA",
          "per 100,000 inhabitants<br>KANSAS",
          "per 100,000 inhabitants<br>KENTUCKY",
          "per 100,000 inhabitants<br>LOUISIANA",
          "per 100,000 inhabitants<br>MAINE",
          "per 100,000 inhabitants<br>MARYLAND",
          "per 100,000 inhabitants<br>MASSACHUSETTS",
          "per 100,000 inhabitants<br>MICHIGAN",
          "per 100,000 inhabitants<br>MINNESOTA",
          "per 100,000 inhabitants<br>MISSISSIPPI",
          "per 100,000 inhabitants<br>MISSOURI",
          "per 100,000 inhabitants<br>MONTANA",
          "per 100,000 inhabitants<br>NEBRASKA",
          "per 100,000 inhabitants<br>NEVADA",
          "per 100,000 inhabitants<br>NEW HAMPSHIRE",
          "per 100,000 inhabitants<br>NEW JERSEY",
          "per 100,000 inhabitants<br>NEW MEXICO",
          "per 100,000 inhabitants<br>NEW YORK",
          "per 100,000 inhabitants<br>NORTH CAROLINA",
          "per 100,000 inhabitants<br>NORTH DAKOTA",
          "per 100,000 inhabitants<br>OHIO",
          "per 100,000 inhabitants<br>OKLAHOMA",
          "per 100,000 inhabitants<br>OREGON",
          "per 100,000 inhabitants<br>PENNSYLVANIA",
          "per 100,000 inhabitants<br>RHODE ISLAND",
          "per 100,000 inhabitants<br>SOUTH CAROLINA",
          "per 100,000 inhabitants<br>SOUTH DAKOTA",
          "per 100,000 inhabitants<br>TENNESSEE",
          "per 100,000 inhabitants<br>TEXAS",
          "per 100,000 inhabitants<br>UTAH",
          "per 100,000 inhabitants<br>VERMONT",
          "per 100,000 inhabitants<br>VIRGINIA",
          "per 100,000 inhabitants<br>WASHINGTON",
          "per 100,000 inhabitants<br>WEST VIRGINIA",
          "per 100,000 inhabitants<br>WISCONSIN",
          "per 100,000 inhabitants<br>WYOMING"
         ],
         "type": "choropleth",
         "z": [
          6960.400000000001,
          8314.4,
          6896.999999999999,
          7638.799999999999,
          5996.7,
          6166.7,
          4070.2999999999997,
          6549.599999999999,
          6234.3,
          6804,
          6603.900000000001,
          3949.0000000000005,
          4970.6,
          5988.200000000001,
          4753.4,
          6151.900000000001,
          4844.099999999999,
          7727.5,
          3538.8,
          5513,
          3876.1000000000004,
          4737.7,
          4751.700000000001,
          6097.3,
          6636.900000000001,
          6103.6,
          5108.6,
          6529.2,
          3421.1000000000004,
          3579.1,
          9279.199999999999,
          3843.6,
          6219.4,
          5094,
          5755.5,
          6865.400000000001,
          6457.8,
          4118.200000000001,
          4275.1,
          7491.2,
          4797.900000000001,
          6974,
          6388.400000000001,
          6388.7,
          3711.3999999999996,
          4154.099999999999,
          7592.5,
          4810.6,
          4478.3,
          4403
         ]
        }
       ],
       "layout": {
        "geo": {
         "projection": {
          "type": "Mercator"
         },
         "scope": "usa",
         "showcoastlines": false,
         "showframe": false
        },
        "title": "US Crime Rate: all_crime"
       }
      },
      "text/html": [
       "<div id=\"bcc96ed3-7e18-403e-8d0a-5611ae77608e\" style=\"height: 525px; width: 100%;\" class=\"plotly-graph-div\"></div><script type=\"text/javascript\">require([\"plotly\"], function(Plotly) { window.PLOTLYENV=window.PLOTLYENV || {};window.PLOTLYENV.BASE_URL=\"https://plot.ly\";Plotly.newPlot(\"bcc96ed3-7e18-403e-8d0a-5611ae77608e\", [{\"type\": \"choropleth\", \"locations\": [\"AL\", \"AK\", \"AZ\", \"AR\", \"CA\", \"CO\", \"CT\", \"DE\", \"FL\", \"GA\", \"HI\", \"ID\", \"IL\", \"IN\", \"IA\", \"KS\", \"KY\", \"LA\", \"ME\", \"MD\", \"MA\", \"MI\", \"MN\", \"MS\", \"MO\", \"MT\", \"NE\", \"NV\", \"NH\", \"NJ\", \"NM\", \"NY\", \"NC\", \"ND\", \"OH\", \"OK\", \"OR\", \"PA\", \"RI\", \"SC\", \"SD\", \"TN\", \"TX\", \"UT\", \"VT\", \"VA\", \"WA\", \"WV\", \"WI\", \"WY\"], \"locationmode\": \"USA-states\", \"z\": [6960.400000000001, 8314.4, 6896.999999999999, 7638.799999999999, 5996.7, 6166.7, 4070.2999999999997, 6549.599999999999, 6234.3, 6804.0, 6603.900000000001, 3949.0000000000005, 4970.6, 5988.200000000001, 4753.4, 6151.900000000001, 4844.099999999999, 7727.5, 3538.8, 5513.0, 3876.1000000000004, 4737.7, 4751.700000000001, 6097.3, 6636.900000000001, 6103.6, 5108.6, 6529.2, 3421.1000000000004, 3579.1, 9279.199999999999, 3843.6, 6219.4, 5094.0, 5755.5, 6865.400000000001, 6457.8, 4118.200000000001, 4275.1, 7491.2, 4797.900000000001, 6974.0, 6388.400000000001, 6388.7, 3711.3999999999996, 4154.099999999999, 7592.5, 4810.6, 4478.3, 4403.0], \"text\": [\"per 100,000 inhabitants<br>ALABAMA\", \"per 100,000 inhabitants<br>ALASKA\", \"per 100,000 inhabitants<br>ARIZONA\", \"per 100,000 inhabitants<br>ARKANSAS\", \"per 100,000 inhabitants<br>CALIFORNIA\", \"per 100,000 inhabitants<br>COLORADO\", \"per 100,000 inhabitants<br>CONNECTICUT\", \"per 100,000 inhabitants<br>DELAWARE\", \"per 100,000 inhabitants<br>FLORIDA\", \"per 100,000 inhabitants<br>GEORGIA\", \"per 100,000 inhabitants<br>HAWAII\", \"per 100,000 inhabitants<br>IDAHO\", \"per 100,000 inhabitants<br>ILLINOIS\", \"per 100,000 inhabitants<br>INDIANA\", \"per 100,000 inhabitants<br>IOWA\", \"per 100,000 inhabitants<br>KANSAS\", \"per 100,000 inhabitants<br>KENTUCKY\", \"per 100,000 inhabitants<br>LOUISIANA\", \"per 100,000 inhabitants<br>MAINE\", \"per 100,000 inhabitants<br>MARYLAND\", \"per 100,000 inhabitants<br>MASSACHUSETTS\", \"per 100,000 inhabitants<br>MICHIGAN\", \"per 100,000 inhabitants<br>MINNESOTA\", \"per 100,000 inhabitants<br>MISSISSIPPI\", \"per 100,000 inhabitants<br>MISSOURI\", \"per 100,000 inhabitants<br>MONTANA\", \"per 100,000 inhabitants<br>NEBRASKA\", \"per 100,000 inhabitants<br>NEVADA\", \"per 100,000 inhabitants<br>NEW HAMPSHIRE\", \"per 100,000 inhabitants<br>NEW JERSEY\", \"per 100,000 inhabitants<br>NEW MEXICO\", \"per 100,000 inhabitants<br>NEW YORK\", \"per 100,000 inhabitants<br>NORTH CAROLINA\", \"per 100,000 inhabitants<br>NORTH DAKOTA\", \"per 100,000 inhabitants<br>OHIO\", \"per 100,000 inhabitants<br>OKLAHOMA\", \"per 100,000 inhabitants<br>OREGON\", \"per 100,000 inhabitants<br>PENNSYLVANIA\", \"per 100,000 inhabitants<br>RHODE ISLAND\", \"per 100,000 inhabitants<br>SOUTH CAROLINA\", \"per 100,000 inhabitants<br>SOUTH DAKOTA\", \"per 100,000 inhabitants<br>TENNESSEE\", \"per 100,000 inhabitants<br>TEXAS\", \"per 100,000 inhabitants<br>UTAH\", \"per 100,000 inhabitants<br>VERMONT\", \"per 100,000 inhabitants<br>VIRGINIA\", \"per 100,000 inhabitants<br>WASHINGTON\", \"per 100,000 inhabitants<br>WEST VIRGINIA\", \"per 100,000 inhabitants<br>WISCONSIN\", \"per 100,000 inhabitants<br>WYOMING\"], \"colorscale\": [[0.0, \"#550b1d\"], [0.2, \"#933b41\"], [0.4, \"#cc7878\"], [0.6, \"#ddb7b1\"], [0.8, \"#dfccce\"], [1.0, \"#e2e2e2\"]], \"autocolorscale\": false, \"reversescale\": true, \"marker\": {\"cmax\": 9279.199999999999, \"cmin\": 3421.1000000000004, \"line\": {\"color\": \"rgb(255,255,255)\", \"width\": 2}}, \"colorbar\": {\"autotick\": false, \"tickprefix\": \"\", \"title\": \"Crime Rate\"}}], {\"title\": \"US Crime Rate: all_crime\", \"geo\": {\"scope\": \"usa\", \"showframe\": false, \"showcoastlines\": false, \"projection\": {\"type\": \"Mercator\"}}}, {\"showLink\": true, \"linkText\": \"Export to plot.ly\"})});</script>"
      ],
      "text/vnd.plotly.v1+html": [
       "<div id=\"bcc96ed3-7e18-403e-8d0a-5611ae77608e\" style=\"height: 525px; width: 100%;\" class=\"plotly-graph-div\"></div><script type=\"text/javascript\">require([\"plotly\"], function(Plotly) { window.PLOTLYENV=window.PLOTLYENV || {};window.PLOTLYENV.BASE_URL=\"https://plot.ly\";Plotly.newPlot(\"bcc96ed3-7e18-403e-8d0a-5611ae77608e\", [{\"type\": \"choropleth\", \"locations\": [\"AL\", \"AK\", \"AZ\", \"AR\", \"CA\", \"CO\", \"CT\", \"DE\", \"FL\", \"GA\", \"HI\", \"ID\", \"IL\", \"IN\", \"IA\", \"KS\", \"KY\", \"LA\", \"ME\", \"MD\", \"MA\", \"MI\", \"MN\", \"MS\", \"MO\", \"MT\", \"NE\", \"NV\", \"NH\", \"NJ\", \"NM\", \"NY\", \"NC\", \"ND\", \"OH\", \"OK\", \"OR\", \"PA\", \"RI\", \"SC\", \"SD\", \"TN\", \"TX\", \"UT\", \"VT\", \"VA\", \"WA\", \"WV\", \"WI\", \"WY\"], \"locationmode\": \"USA-states\", \"z\": [6960.400000000001, 8314.4, 6896.999999999999, 7638.799999999999, 5996.7, 6166.7, 4070.2999999999997, 6549.599999999999, 6234.3, 6804.0, 6603.900000000001, 3949.0000000000005, 4970.6, 5988.200000000001, 4753.4, 6151.900000000001, 4844.099999999999, 7727.5, 3538.8, 5513.0, 3876.1000000000004, 4737.7, 4751.700000000001, 6097.3, 6636.900000000001, 6103.6, 5108.6, 6529.2, 3421.1000000000004, 3579.1, 9279.199999999999, 3843.6, 6219.4, 5094.0, 5755.5, 6865.400000000001, 6457.8, 4118.200000000001, 4275.1, 7491.2, 4797.900000000001, 6974.0, 6388.400000000001, 6388.7, 3711.3999999999996, 4154.099999999999, 7592.5, 4810.6, 4478.3, 4403.0], \"text\": [\"per 100,000 inhabitants<br>ALABAMA\", \"per 100,000 inhabitants<br>ALASKA\", \"per 100,000 inhabitants<br>ARIZONA\", \"per 100,000 inhabitants<br>ARKANSAS\", \"per 100,000 inhabitants<br>CALIFORNIA\", \"per 100,000 inhabitants<br>COLORADO\", \"per 100,000 inhabitants<br>CONNECTICUT\", \"per 100,000 inhabitants<br>DELAWARE\", \"per 100,000 inhabitants<br>FLORIDA\", \"per 100,000 inhabitants<br>GEORGIA\", \"per 100,000 inhabitants<br>HAWAII\", \"per 100,000 inhabitants<br>IDAHO\", \"per 100,000 inhabitants<br>ILLINOIS\", \"per 100,000 inhabitants<br>INDIANA\", \"per 100,000 inhabitants<br>IOWA\", \"per 100,000 inhabitants<br>KANSAS\", \"per 100,000 inhabitants<br>KENTUCKY\", \"per 100,000 inhabitants<br>LOUISIANA\", \"per 100,000 inhabitants<br>MAINE\", \"per 100,000 inhabitants<br>MARYLAND\", \"per 100,000 inhabitants<br>MASSACHUSETTS\", \"per 100,000 inhabitants<br>MICHIGAN\", \"per 100,000 inhabitants<br>MINNESOTA\", \"per 100,000 inhabitants<br>MISSISSIPPI\", \"per 100,000 inhabitants<br>MISSOURI\", \"per 100,000 inhabitants<br>MONTANA\", \"per 100,000 inhabitants<br>NEBRASKA\", \"per 100,000 inhabitants<br>NEVADA\", \"per 100,000 inhabitants<br>NEW HAMPSHIRE\", \"per 100,000 inhabitants<br>NEW JERSEY\", \"per 100,000 inhabitants<br>NEW MEXICO\", \"per 100,000 inhabitants<br>NEW YORK\", \"per 100,000 inhabitants<br>NORTH CAROLINA\", \"per 100,000 inhabitants<br>NORTH DAKOTA\", \"per 100,000 inhabitants<br>OHIO\", \"per 100,000 inhabitants<br>OKLAHOMA\", \"per 100,000 inhabitants<br>OREGON\", \"per 100,000 inhabitants<br>PENNSYLVANIA\", \"per 100,000 inhabitants<br>RHODE ISLAND\", \"per 100,000 inhabitants<br>SOUTH CAROLINA\", \"per 100,000 inhabitants<br>SOUTH DAKOTA\", \"per 100,000 inhabitants<br>TENNESSEE\", \"per 100,000 inhabitants<br>TEXAS\", \"per 100,000 inhabitants<br>UTAH\", \"per 100,000 inhabitants<br>VERMONT\", \"per 100,000 inhabitants<br>VIRGINIA\", \"per 100,000 inhabitants<br>WASHINGTON\", \"per 100,000 inhabitants<br>WEST VIRGINIA\", \"per 100,000 inhabitants<br>WISCONSIN\", \"per 100,000 inhabitants<br>WYOMING\"], \"colorscale\": [[0.0, \"#550b1d\"], [0.2, \"#933b41\"], [0.4, \"#cc7878\"], [0.6, \"#ddb7b1\"], [0.8, \"#dfccce\"], [1.0, \"#e2e2e2\"]], \"autocolorscale\": false, \"reversescale\": true, \"marker\": {\"cmax\": 9279.199999999999, \"cmin\": 3421.1000000000004, \"line\": {\"color\": \"rgb(255,255,255)\", \"width\": 2}}, \"colorbar\": {\"autotick\": false, \"tickprefix\": \"\", \"title\": \"Crime Rate\"}}], {\"title\": \"US Crime Rate: all_crime\", \"geo\": {\"scope\": \"usa\", \"showframe\": false, \"showcoastlines\": false, \"projection\": {\"type\": \"Mercator\"}}}, {\"showLink\": true, \"linkText\": \"Export to plot.ly\"})});</script>"
      ]
     },
     "metadata": {},
     "output_type": "display_data"
    }
   ],
   "source": [
    "df = df[df['year']==2016]\n",
    "crime = 'all_crime'\n",
    "data = [dict(\n",
    "        type = 'choropleth',\n",
    "        locations = df['Code'],\n",
    "        locationmode = 'USA-states',\n",
    "        z = df[crime],\n",
    "        text = df['text'],\n",
    "        #colorscale = [ \"#c9d9d3\", \"#e2e2e2\", \"#dfccce\", \"#ddb7b1\", \"#cc7878\", \"#933b41\", \"#550b1d\"],\n",
    "        colorscale = [[0.0, \"#550b1d\"] ,[0.2, \"#933b41\"],[0.4, \"#cc7878\"],\\\n",
    "            [0.6, \"#ddb7b1\"],[0.8, \"#dfccce\"],[1.0, \"#e2e2e2\"]],\n",
    "        autocolorscale = False,\n",
    "        reversescale = True,\n",
    "        marker = dict(\n",
    "            cmax=max(df[crime]),\n",
    "            cmin=min(df[crime]),\n",
    "            line = dict (\n",
    "                color = 'rgb(255,255,255)',\n",
    "                width = 2\n",
    "            ) ),\n",
    "            colorbar = dict(\n",
    "                autotick = False,\n",
    "                tickprefix = '',\n",
    "                title = 'Crime Rate'),\n",
    "          ) ]\n",
    "\n",
    "layout = dict(\n",
    "    title = 'US Crime Rate: ' + crime,\n",
    "    geo = dict(\n",
    "        scope='usa',\n",
    "        showframe = False,\n",
    "        showcoastlines = False,\n",
    "        projection = dict(\n",
    "            type = 'Mercator'\n",
    "        )\n",
    "    )\n",
    ")\n",
    "\n",
    "fig = dict( data=data, layout=layout )\n",
    "iplot( fig, validate=False, filename='d3-world-map' )"
   ]
  },
  {
   "cell_type": "markdown",
   "metadata": {},
   "source": [
    "# Animation"
   ]
  },
  {
   "cell_type": "code",
   "execution_count": null,
   "metadata": {},
   "outputs": [],
   "source": [
    "# df['all_crime'] = df['Violent_crime'] + df['Murder_and_nonnegligent_manslaughter'] + df['Rape'] + df['Robbery'] +\\\n",
    "#     df['Aggravated_assault'] + df['Property_crime'] + df['Burglary'] + df['Larceny-theft'] + df['Motor_vehicle_theft']"
   ]
  },
  {
   "cell_type": "code",
   "execution_count": 331,
   "metadata": {},
   "outputs": [],
   "source": [
    "years_sorted = sorted(list(df.year.unique()))"
   ]
  },
  {
   "cell_type": "code",
   "execution_count": 344,
   "metadata": {},
   "outputs": [
    {
     "name": "stderr",
     "output_type": "stream",
     "text": [
      "/Users/SONGZIZHEN/anaconda/envs/py36/lib/python3.6/site-packages/plotly/offline/offline.py:459: UserWarning:\n",
      "\n",
      "Your filename `us_crime_Motor_vehicle_theft` didn't end with .html. Adding .html to the end of your file.\n",
      "\n"
     ]
    },
    {
     "data": {
      "text/plain": [
       "'file:///Users/SONGZIZHEN/Desktop/DataVisulizaition/Project_New/us_crime_Motor_vehicle_theft.html'"
      ]
     },
     "execution_count": 344,
     "metadata": {},
     "output_type": "execute_result"
    }
   ],
   "source": [
    "crime = 'Motor_vehicle_theft'\n",
    "crime_name = 'Motor Vehicle Theft'\n",
    "\n",
    "figure = {\n",
    "    'data': [],\n",
    "    'layout': {},\n",
    "    'frames': [],}\n",
    "\n",
    "data = []\n",
    "for year in years_sorted:\n",
    "    df_this_year = df[df['year'] == year]\n",
    "    data_this_year = dict(\n",
    "            type = 'choropleth',\n",
    "            locations = df_this_year['Code'],\n",
    "            locationmode = 'USA-states',\n",
    "            z = df_this_year[crime],\n",
    "            text = df_this_year['text'],\n",
    "            colorscale = [[0.0, \"#550b1d\"] ,[0.2, \"#933b41\"],[0.4, \"#cc7878\"],\\\n",
    "                [0.6, \"#ddb7b1\"],[0.8, \"#dfccce\"],[1.0, \"#e2e2e2\"]],\n",
    "        \n",
    "            reversescale = True,\n",
    "            marker = dict(\n",
    "                line = dict (\n",
    "                    color = 'rgb(255,255,255)',\n",
    "                    width = 2\n",
    "                ) ),\n",
    "                colorbar = dict(\n",
    "                    tickprefix = '',\n",
    "                    title = 'Crime Rate'),\n",
    "              )\n",
    "    data.append(data_this_year)\n",
    "\n",
    "figure['data'] = [data[0]]\n",
    "figure['layout'] = dict(\n",
    "    title = 'US Crime Rate : ' + crime_name,\n",
    "    geo = dict(\n",
    "        scope = 'usa',\n",
    "        showframe = False,\n",
    "        showcoastlines = False,\n",
    "        projection = dict(\n",
    "            type = 'Mercator'\n",
    "        )\n",
    "    )\n",
    ")\n",
    "sliders_dict = {\n",
    "    'active': 0,\n",
    "    'yanchor': 'top',\n",
    "    'xanchor': 'left',\n",
    "    'currentvalue': {\n",
    "        'font': {'size': 20},\n",
    "        'prefix': 'Year:',\n",
    "        'visible': True,\n",
    "        'xanchor': 'right'\n",
    "    },\n",
    "    'transition': {'duration': 500, 'easing': 'cubic-in-out'},\n",
    "    'pad': {'b': 10, 't': 50},\n",
    "    'len': 0.9,\n",
    "    'x': 0.1,\n",
    "    'y': 0,\n",
    "    'steps': []\n",
    "}\n",
    "\n",
    "figure['layout']['updatemenus'] = [\n",
    "    {\n",
    "        'buttons': [\n",
    "            {\n",
    "                'args': [None, {'frame': {'duration': 500, 'redraw': False},\n",
    "                         'fromcurrent': True, 'transition': {'duration': 300, 'easing': 'quadratic-in-out'}}],\n",
    "                'label': 'Play',\n",
    "                'method': 'animate'\n",
    "            },\n",
    "            {\n",
    "                'args': [[None], {'frame': {'duration': 0, 'redraw': False}, 'mode': 'immediate',\n",
    "                'transition': {'duration': 0}}],\n",
    "                'label': 'Pause',\n",
    "                'method': 'animate'\n",
    "            }\n",
    "        ],\n",
    "        'direction': 'left',\n",
    "        'pad': {'r': 10, 't': 87},\n",
    "        'showactive': False,\n",
    "        'type': 'buttons',\n",
    "        'x': 0.1,\n",
    "        'xanchor': 'right',\n",
    "        'y': 0,\n",
    "        'yanchor': 'top'\n",
    "    }\n",
    "]\n",
    "\n",
    "figure['frames'] = [{'data': [data[0]], 'name': str(2015)},\n",
    "                   {'data': [data[1]], 'name': str(2016)},\n",
    "                   {'data': [data[2]], 'name': str(2017)}]\n",
    "figure['frames'] = []\n",
    "\n",
    "for i, year in enumerate(years_sorted):\n",
    "    slider_step = {'args': [\n",
    "        [year],\n",
    "        {'frame': {'duration': 500, 'redraw': False},\n",
    "         'mode': 'immediate',\n",
    "         'transition': {'duration': 500}}\n",
    "         ],\n",
    "         'label': year,\n",
    "         'method': 'animate'}\n",
    "    sliders_dict['steps'].append(slider_step)\n",
    "    figure['frames'].append({'data': [data[i]], 'name': str(year)})\n",
    "\n",
    "figure['layout']['sliders'] = [sliders_dict]\n",
    "plot(figure, show_link=False, filename='us_crime_' + crime)"
   ]
  },
  {
   "cell_type": "code",
   "execution_count": null,
   "metadata": {},
   "outputs": [],
   "source": []
  },
  {
   "cell_type": "code",
   "execution_count": null,
   "metadata": {},
   "outputs": [],
   "source": []
  }
 ],
 "metadata": {
  "kernelspec": {
   "display_name": "py36",
   "language": "python",
   "name": "py36"
  },
  "language_info": {
   "codemirror_mode": {
    "name": "ipython",
    "version": 3
   },
   "file_extension": ".py",
   "mimetype": "text/x-python",
   "name": "python",
   "nbconvert_exporter": "python",
   "pygments_lexer": "ipython3",
   "version": "3.6.4"
  }
 },
 "nbformat": 4,
 "nbformat_minor": 2
}
